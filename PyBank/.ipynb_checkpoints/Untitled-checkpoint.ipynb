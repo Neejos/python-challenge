{
 "cells": [
  {
   "cell_type": "code",
   "execution_count": 4,
   "metadata": {},
   "outputs": [
    {
     "name": "stdout",
     "output_type": "stream",
     "text": [
      "       Financial Analysis\n",
      "--------------------------------------\n",
      "Total months: 86\n",
      "Total : $ 38382578.0\n",
      "Average  Change : $-2315.12\n",
      "Greatest Increase in Profits: Feb-2012   $(1,926,159.0)\n",
      "Greatest Decrease in Profits: Sep-2013   $(-2,196,167.0)\n"
     ]
    }
   ],
   "source": [
    "import os\n",
    "import csv\n",
    "import math\n",
    "import statistics\n",
    "\n",
    "input_path= os.path.join(\"Resources\", \"budget_data.csv\")\n",
    "\n",
    "i=0\n",
    "our_l =[]\n",
    "v_l=[]\n",
    "date_l= []\n",
    "print(\"       Financial Analysis\")\n",
    "print(\"--------------------------------------\")\n",
    "\n",
    "with open(input_path) as datafile:\n",
    "    csvreader = csv.reader(datafile, delimiter = \",\")\n",
    "    csvheadear = next(csvreader)\n",
    "    for row in csvreader:\n",
    "        \n",
    "        our_l.append(float(row[1])) #list of profit/losses\n",
    "        date_l.append(row[0]) #list of months\n",
    "    print(\"Total months: {}\".format(len(date_l))) #Total no of months\n",
    "    print(f\"Total : $ {sum(our_l)}\") # Sum of Profits/Losses\n",
    "    \n",
    "\n",
    "\n",
    "\n",
    "     #change in profit/loss  \n",
    "for i in range(len(our_l)-1):\n",
    "        v = our_l[i+1]-our_l[i]\n",
    "        v_l.append(v)   # list of the change \n",
    "print(\"Average  Change : ${0:.2f}\". format(statistics.mean(v_l))) #average of the change\n",
    "\n",
    "\n",
    "\n",
    "for i in range(len(v_l)-1):\n",
    "    if v_l[i] == max(v_l): #find the max change and its index value 'i' is used to find the corresponding value in the months list\n",
    "        a = date_l[i+1]\n",
    "        print(\"Greatest Increase in Profits: {0}   $({1:,.1f})\".format(a,max(v_l)))\n",
    "    elif v_l[i] == min(v_l): #find the min change and its index value 'i' is used to find the corresponding value in the months list\n",
    "        b = date_l[i+1]\n",
    "        print(\"Greatest Decrease in Profits: {0}   $({1:,.1f})\".format(b,min(v_l)))\n",
    "        \n",
    "outfile=os.path.join(\"Analysis\",\"analysis.txt\")   #export to a text file\n",
    "\n",
    "with open(outfile,\"w\") as data:\n",
    "    data.writelines(\"       Financial Analysis\\n\")\n",
    "    data.writelines(\"--------------------------------------\\n\")\n",
    "    data.writelines(\"Total months: {}\\n\".format(len(date_l)))\n",
    "    data.writelines(f\"Total : $ {sum(our_l)}\\n\")\n",
    "    data.writelines(\"Average  Change : ${0:.2f}\\n\". format(statistics.mean(v_l)))\n",
    "    data.writelines(\"Greatest Increase in Profits: {0}   $({1:,.1f})\\n\".format(a,max(v_l)))\n",
    "    data.writelines(\"Greatest Decrease in Profits: {0}   $({1:,.1f})\\n\".format(b,min(v_l)))\n",
    "    \n",
    "         \n",
    "        \n",
    "    "
   ]
  },
  {
   "cell_type": "code",
   "execution_count": null,
   "metadata": {},
   "outputs": [],
   "source": []
  }
 ],
 "metadata": {
  "kernelspec": {
   "display_name": "Python 3",
   "language": "python",
   "name": "python3"
  },
  "language_info": {
   "codemirror_mode": {
    "name": "ipython",
    "version": 3
   },
   "file_extension": ".py",
   "mimetype": "text/x-python",
   "name": "python",
   "nbconvert_exporter": "python",
   "pygments_lexer": "ipython3",
   "version": "3.7.6"
  }
 },
 "nbformat": 4,
 "nbformat_minor": 4
}
