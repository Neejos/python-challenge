{
 "cells": [
  {
   "cell_type": "code",
   "execution_count": 1,
   "metadata": {},
   "outputs": [],
   "source": [
    "import os\n",
    "import csv\n",
    "import math\n",
    "\n",
    "input_path= os.path.join(\"Resources\", \"budget_data.csv\")\n"
   ]
  },
  {
   "cell_type": "code",
   "execution_count": 2,
   "metadata": {},
   "outputs": [],
   "source": [
    "count = 0\n",
    "total=0\n",
    "i=0\n",
    "r=0\n",
    "our_l =[]\n",
    "v_l=[]\n",
    "with open(input_path) as datafile:\n",
    "    csvreader = csv.reader(datafile, delimiter = \",\")\n",
    "    csvheadear = next(csvreader)\n",
    "    for row in csvreader:\n",
    "        # no of months\n",
    "        count= count +1\n",
    "        # Sum of Profits\n",
    "        total = float(total) + float(row[1])\n",
    "        our_l.append(float(row[1]))\n",
    "        \n",
    "    \n",
    "for i in range(len(our_l)-1):\n",
    "        v = our_l[i+1]-our_l[i]\n",
    "        v_l.append(v)\n",
    "for i in range(len(v_l)-1):\n",
    "    if v_l[i+1] > v_l[i]:\n",
    "         g = v_l[i+1]\n",
    "        \n",
    "    else:\n",
    "         g =v_l[i]\n",
    "        \n",
    "\n",
    "\n",
    "for position,item in enumerate(v_l):\n",
    "    if item == max(v_l):\n",
    "        a=position\n",
    "    if item ==min(v_l):\n",
    "        b=position\n",
    "    \n",
    "    \n",
    "with open(input_path) as datafile:\n",
    "    csvreader = csv.reader(datafile, delimiter = \",\")\n",
    "    csvheadear = next(csvreader)\n",
    "            \n",
    "    for position1,item1 in enumerate(csvreader):\n",
    "        if position1 == a+1:\n",
    "            c=item1[0]\n",
    "            \n",
    "        if position1 == b-1:\n",
    "            d=item1[0]\n",
    "            \n",
    "        #if position1 == j:\n",
    "            #print(item1)\n",
    "\n",
    "       "
   ]
  },
  {
   "cell_type": "code",
   "execution_count": null,
   "metadata": {},
   "outputs": [],
   "source": [
    "print(v_l)\n",
    "print (r)\n"
   ]
  },
  {
   "cell_type": "code",
   "execution_count": null,
   "metadata": {},
   "outputs": [],
   "source": []
  },
  {
   "cell_type": "code",
   "execution_count": 3,
   "metadata": {},
   "outputs": [
    {
     "name": "stdout",
     "output_type": "stream",
     "text": [
      "Total months: 86\n",
      "Total : $ 38382578.0\n",
      "Average  Change : $-2315.12\n",
      "Greatest Increase in Profits: Feb-2012   $1,926,159.0\n",
      "Greatest Decrease in Profits: Jul-2013  $-2,196,167.0\n"
     ]
    }
   ],
   "source": [
    "print(\"Total months: {}\".format(count))\n",
    "\n",
    "print(f\"Total : $ {sum(our_l)}\")\n",
    "print(\"Average  Change : ${0:.2f}\". format(sum(v_l) / len(v_l)))\n",
    "print(\"Greatest Increase in Profits: {0}   ${1:,.1f}\".format(c,max(v_l))) #  1 decimal point and float\n",
    "                                                                           #for every hundreds a comma(comma has to be put first)\n",
    "print(\"Greatest Decrease in Profits: {0}  ${1:,.1f}\".format(d,min(v_l)))"
   ]
  },
  {
   "cell_type": "code",
   "execution_count": null,
   "metadata": {},
   "outputs": [],
   "source": []
  },
  {
   "cell_type": "code",
   "execution_count": 9,
   "metadata": {},
   "outputs": [
    {
     "name": "stdout",
     "output_type": "stream",
     "text": [
      "Total months: 86\n",
      "Total : $ 38382578.0\n",
      "Average  Change : $-2315.12\n",
      "Greatest Increase in Profits: Feb-2012   $1,926,159.0\n",
      "Greatest Decrease in Profits: Jul-2013  $-2,196,167.0\n"
     ]
    },
    {
     "ename": "TypeError",
     "evalue": "write() argument must be str, not tuple",
     "output_type": "error",
     "traceback": [
      "\u001b[1;31m---------------------------------------------------------------------------\u001b[0m",
      "\u001b[1;31mTypeError\u001b[0m                                 Traceback (most recent call last)",
      "\u001b[1;32m<ipython-input-9-51b44812aac3>\u001b[0m in \u001b[0;36m<module>\u001b[1;34m\u001b[0m\n\u001b[0;32m     11\u001b[0m \u001b[1;33m\u001b[0m\u001b[0m\n\u001b[0;32m     12\u001b[0m \u001b[1;32mwith\u001b[0m \u001b[0mopen\u001b[0m\u001b[1;33m(\u001b[0m\u001b[1;34m\"Analysis/analysis.csv\"\u001b[0m\u001b[1;33m,\u001b[0m\u001b[1;34m'w'\u001b[0m\u001b[1;33m)\u001b[0m \u001b[1;32mas\u001b[0m \u001b[0mtext\u001b[0m\u001b[1;33m:\u001b[0m\u001b[1;33m\u001b[0m\u001b[1;33m\u001b[0m\u001b[0m\n\u001b[1;32m---> 13\u001b[1;33m     \u001b[0mtext\u001b[0m\u001b[1;33m.\u001b[0m\u001b[0mwrite\u001b[0m\u001b[1;33m(\u001b[0m\u001b[0manalysis\u001b[0m\u001b[1;33m)\u001b[0m\u001b[1;33m\u001b[0m\u001b[1;33m\u001b[0m\u001b[0m\n\u001b[0m\u001b[0;32m     14\u001b[0m     \u001b[0mwriter\u001b[0m\u001b[1;33m.\u001b[0m\u001b[0mwriterows\u001b[0m\u001b[1;33m(\u001b[0m\u001b[0mroster\u001b[0m\u001b[1;33m)\u001b[0m\u001b[1;33m\u001b[0m\u001b[1;33m\u001b[0m\u001b[0m\n\u001b[0;32m     15\u001b[0m \u001b[1;33m\u001b[0m\u001b[0m\n",
      "\u001b[1;31mTypeError\u001b[0m: write() argument must be str, not tuple"
     ]
    }
   ],
   "source": [
    "\n",
    "one=print(\"Total months: {}\".format(count))\n",
    "\n",
    "two=print(f\"Total : $ {sum(our_l)}\")\n",
    "three =print(\"Average  Change : ${0:.2f}\". format(sum(v_l) / len(v_l)))\n",
    "four = print (\"Greatest Increase in Profits: {0}   ${1:,.1f}\".format(c,max(v_l))) #  1 decimal point and float\n",
    "                                                                           #for every hundreds a comma(comma has to be put first)\n",
    "five = print(\"Greatest Decrease in Profits: {0}  ${1:,.1f}\".format(d,min(v_l)))\n",
    "\n",
    "analysis=({one},{two},{three})\n",
    "          \n",
    "\n",
    "with open(\"Analysis/analysis.csv\",'w') as text:\n",
    "    text.write(analysis)\n",
    "    writer.writerows(roster)\n",
    "\n",
    " \n",
    "    "
   ]
  },
  {
   "cell_type": "code",
   "execution_count": null,
   "metadata": {},
   "outputs": [],
   "source": [
    "\n"
   ]
  },
  {
   "cell_type": "code",
   "execution_count": null,
   "metadata": {},
   "outputs": [],
   "source": []
  }
 ],
 "metadata": {
  "kernelspec": {
   "display_name": "Python 3",
   "language": "python",
   "name": "python3"
  },
  "language_info": {
   "codemirror_mode": {
    "name": "ipython",
    "version": 3
   },
   "file_extension": ".py",
   "mimetype": "text/x-python",
   "name": "python",
   "nbconvert_exporter": "python",
   "pygments_lexer": "ipython3",
   "version": "3.7.6"
  }
 },
 "nbformat": 4,
 "nbformat_minor": 4
}
