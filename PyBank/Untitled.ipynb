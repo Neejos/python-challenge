{
 "cells": [
  {
   "cell_type": "code",
   "execution_count": 1,
   "metadata": {},
   "outputs": [],
   "source": [
    "import os\n",
    "import csv\n",
    "import math\n",
    "\n",
    "input_path= os.path.join(\"Resources\", \"budget_data.csv\")\n"
   ]
  },
  {
   "cell_type": "code",
   "execution_count": 2,
   "metadata": {},
   "outputs": [],
   "source": [
    "count = 0\n",
    "total=0\n",
    "i=0\n",
    "r=0\n",
    "our_l =[]\n",
    "v_l=[]\n",
    "with open(input_path) as datafile:\n",
    "    csvreader = csv.reader(datafile, delimiter = \",\")\n",
    "    csvheadear = next(csvreader)\n",
    "    for row in csvreader:\n",
    "        # no of months\n",
    "        count= count +1\n",
    "        # Sum of Profits\n",
    "        total = float(total) + float(row[1])\n",
    "        our_l.append(float(row[1]))\n",
    "        \n",
    "    \n",
    "for i in range(len(our_l)-1):\n",
    "        v = our_l[i+1]-our_l[i]\n",
    "        v_l.append(v)\n",
    "for i in range(len(v_l)-1):\n",
    "    if v_l[i+1] > v_l[i]:\n",
    "         g = v_l[i+1]\n",
    "        \n",
    "    else:\n",
    "         g =v_l[i]\n",
    "        \n",
    "\n",
    "\n",
    "for position,item in enumerate(v_l):\n",
    "    if item == max(v_l):\n",
    "        a=position\n",
    "    if item ==min(v_l):\n",
    "        b=position\n",
    "    \n",
    "    \n",
    "with open(input_path) as datafile:\n",
    "    csvreader = csv.reader(datafile, delimiter = \",\")\n",
    "    csvheadear = next(csvreader)\n",
    "            \n",
    "    for position1,item1 in enumerate(csvreader):\n",
    "        if position1 == a+1:\n",
    "            c=item1[0]\n",
    "            \n",
    "        if position1 == b-1:\n",
    "            d=item1[0]\n",
    "            \n",
    "        #if position1 == j:\n",
    "            #print(item1)\n",
    "\n",
    "\n",
    "\n",
    "         \n",
    "            \n",
    "            \n",
    "    \n",
    "    \n",
    "           \n",
    "            \n",
    "            \n",
    "    \n",
    "     \n",
    "       "
   ]
  },
  {
   "cell_type": "code",
   "execution_count": null,
   "metadata": {},
   "outputs": [],
   "source": [
    "print(v_l)\n",
    "print (r)\n"
   ]
  },
  {
   "cell_type": "code",
   "execution_count": null,
   "metadata": {},
   "outputs": [],
   "source": []
  },
  {
   "cell_type": "code",
   "execution_count": 3,
   "metadata": {},
   "outputs": [
    {
     "name": "stdout",
     "output_type": "stream",
     "text": [
      "Total months: 86\n",
      "Total : $ 38382578.0\n",
      "Average  Change : $-2315.12\n",
      "Greatest Increase in Profits: $Feb-2012  1926159.0\n",
      "Greatest Decrease in Profits: $Jul-2013  -2196167.0\n"
     ]
    }
   ],
   "source": [
    "\n",
    "print(\"Total months: {}\".format(count))\n",
    "\n",
    "print(f\"Total : $ {sum(our_l)}\")\n",
    "print(f\"Average  Change : ${round((sum(v_l) / len(v_l)),2)}\")\n",
    "print(f\"Greatest Increase in Profits: ${c}  {max(v_l)}\")\n",
    "print(f\"Greatest Decrease in Profits: ${d}  {min(v_l)}\")\n",
    "\n",
    "\n",
    "# OR print(f\"Total : ${round(float(total),2)}\")\n",
    "\n",
    "\n",
    "\n",
    "\n",
    "    \n",
    "    \n",
    "\n",
    "    \n",
    "    \n",
    "    \n",
    "            \n",
    "   \n",
    "    \n",
    "    \n",
    "        \n",
    "            \n",
    "            \n",
    "    \n",
    "    "
   ]
  },
  {
   "cell_type": "code",
   "execution_count": null,
   "metadata": {},
   "outputs": [],
   "source": []
  },
  {
   "cell_type": "code",
   "execution_count": null,
   "metadata": {},
   "outputs": [],
   "source": []
  }
 ],
 "metadata": {
  "kernelspec": {
   "display_name": "Python 3",
   "language": "python",
   "name": "python3"
  },
  "language_info": {
   "codemirror_mode": {
    "name": "ipython",
    "version": 3
   },
   "file_extension": ".py",
   "mimetype": "text/x-python",
   "name": "python",
   "nbconvert_exporter": "python",
   "pygments_lexer": "ipython3",
   "version": "3.7.6"
  }
 },
 "nbformat": 4,
 "nbformat_minor": 4
}
