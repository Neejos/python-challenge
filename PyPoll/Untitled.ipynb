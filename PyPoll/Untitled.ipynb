{
 "cells": [
  {
   "cell_type": "code",
   "execution_count": 50,
   "metadata": {},
   "outputs": [],
   "source": [
    "import os\n",
    "import csv\n",
    "\n",
    "input_path= os.path.join(\"Resources\", \"election_data.csv\")\n"
   ]
  },
  {
   "cell_type": "code",
   "execution_count": null,
   "metadata": {},
   "outputs": [],
   "source": [
    "count=0\n",
    "i=0\n",
    "\n",
    "our_l=[]\n",
    "new_l=[]\n",
    "with open(input_path) as datafile:\n",
    "    csvreader = csv.reader(datafile, delimiter = \",\")\n",
    "    csvheader = next(csvreader)\n",
    "    print(csvheader)\n",
    "    \n",
    "    for column,row in enumerate(csvreader):\n",
    "        print(1(0))\n",
    "        for row in range(10):\n",
    "            \n",
    "            print(column(0))\n",
    "       "
   ]
  },
  {
   "cell_type": "code",
   "execution_count": 51,
   "metadata": {},
   "outputs": [
    {
     "name": "stdout",
     "output_type": "stream",
     "text": [
      "Election Results\n",
      "-------------------------\n",
      "Total Votes : 3521001\n",
      "-------------------------\n",
      "Khan : 63.0% (2218231)\n",
      "Correy : 20.0% (704200)\n",
      "Li : 14.0% (492940)\n",
      "O'Tooley : 3.0% (105629)\n"
     ]
    }
   ],
   "source": [
    "count=0\n",
    "i=0\n",
    "\n",
    "our_l=[]\n",
    "candidates_l = []\n",
    "\n",
    "with open(input_path) as datafile:\n",
    "    csvreader = csv.reader(datafile, delimiter = \",\")\n",
    "    csvheader = next(csvreader)\n",
    "     \n",
    " # loop through the rows nad count the no of row to give total no of vote\n",
    "#Also place the value of the \"candidates\" column in a list(our_l)\n",
    "    for row in csvreader:\n",
    "        count=count+1\n",
    "        our_l.append(row[2])\n",
    "        \n",
    "print(\"Election Results\")\n",
    "print(\"-------------------------\")\n",
    "print(F\"Total Votes : {count}\")\n",
    "print(\"-------------------------\")\n",
    "\n",
    "# loop through the names column list(our_l) and if the two adjacent value are not the same and if that first value is not in the candidates_l\n",
    "#which is empty to start with,then the first compared value is appended to the candidates_l.\n",
    "for i in range(count-1):\n",
    "    if our_l[i+1]!=our_l[i] and our_l[i] not in candidates_l:\n",
    "            candidates_l.append(our_l[i])\n",
    "            \n",
    "#  each value in candidates_l is compared to every value in the our_l and variable 'c' holds the no of times\n",
    "#they are the same,which in turn shows the total votes per candidate\n",
    "# variable b holds the candidate name\n",
    "# variable a hold the percentage of votes per candidate\n",
    "for j in range(len( candidates_l)):\n",
    "    c = 0\n",
    "    for i in range(count-1):\n",
    "        if candidates_l[j] == our_l[i]:\n",
    "           c = c+1\n",
    "    b= candidates_l[j]\n",
    "    a = (c/count)*100\n",
    "    print(\"{} : {}% ({})\".format(b,round(a,2),c))\n",
    "        \n",
    "          \n",
    "                 \n",
    "                \n",
    "\n",
    "    \n",
    "   \n",
    "\n",
    "\n",
    "            \n",
    "    \n",
    "        \n",
    "\n",
    "        "
   ]
  },
  {
   "cell_type": "raw",
   "metadata": {},
   "source": []
  },
  {
   "cell_type": "code",
   "execution_count": null,
   "metadata": {},
   "outputs": [],
   "source": []
  }
 ],
 "metadata": {
  "kernelspec": {
   "display_name": "Python 3",
   "language": "python",
   "name": "python3"
  },
  "language_info": {
   "codemirror_mode": {
    "name": "ipython",
    "version": 3
   },
   "file_extension": ".py",
   "mimetype": "text/x-python",
   "name": "python",
   "nbconvert_exporter": "python",
   "pygments_lexer": "ipython3",
   "version": "3.7.6"
  }
 },
 "nbformat": 4,
 "nbformat_minor": 4
}
