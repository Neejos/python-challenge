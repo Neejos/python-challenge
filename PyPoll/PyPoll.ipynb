{
 "cells": [
  {
   "cell_type": "code",
   "execution_count": 1,
   "metadata": {},
   "outputs": [],
   "source": [
    "\n",
    "import os\n",
    "import csv\n",
    "import math\n",
    "\n",
    "input_path= os.path.join(\"Resources\", \"election_data.csv\")\n"
   ]
  },
  {
   "cell_type": "code",
   "execution_count": 2,
   "metadata": {},
   "outputs": [
    {
     "name": "stdout",
     "output_type": "stream",
     "text": [
      "{'Khan': 2218231, 'Correy': 704200, 'Li': 492940, \"O'Tooley\": 105630}\n"
     ]
    }
   ],
   "source": [
    "i=0\n",
    "name_l=[]\n",
    "\n",
    "voter_id_l=[]\n",
    "candidates_l = []\n",
    "key_l=[]\n",
    "val_l=[]\n",
    "\n",
    "with open(input_path) as datafile:\n",
    "    csvreader = csv.reader(datafile, delimiter = \",\")\n",
    "    csvheader = next(csvreader)\n",
    "     \n",
    " # loop through the rows nad count the no of row to give total no of vote\n",
    "#Also place the value of the \"candidates\" column in a list(our_l)\n",
    "    for row in csvreader:\n",
    "        \n",
    "        candidates_l.append(row[2])\n",
    "        voter_id_l.append(row[0])\n",
    "    dict={}\n",
    "    for i in set(candidates_l):   #convert list to set to get the unique values\n",
    "        dict.update({i:0})        #  each value in the set is converted to a dictionary so that the no of votes for each\n",
    "                                  # candidate can be set to 0\n",
    "            \n",
    "    for i in candidates_l:       #  parse through row in the candidate list \n",
    "        dict[i] = dict[i] +1     # and  every time a value in the dict is found the corresponding vote value in th dict in increased by one\n",
    "    print(dict)                 # unique candidate list and the corresponding total votes for each\n",
    "    \n",
    "   "
   ]
  },
  {
   "cell_type": "code",
   "execution_count": 3,
   "metadata": {},
   "outputs": [],
   "source": [
    " key_l = list(dict.keys()) \n",
    "val_l = list(dict.values()) \n",
    "   "
   ]
  },
  {
   "cell_type": "code",
   "execution_count": 5,
   "metadata": {},
   "outputs": [
    {
     "name": "stdout",
     "output_type": "stream",
     "text": [
      "Election Results\n",
      "-------------------------\n",
      "Total Votes : 3521001\n",
      "-------------------------\n",
      "Khan : 63.0%   (2218231)\n",
      "Correy : 20.0%   (704200)\n",
      "Li : 14.0%   (492940)\n",
      "O'Tooley : 3.0%   (105630)\n",
      "-------------------------\n",
      "Winner : Khan\n"
     ]
    }
   ],
   "source": [
    "    \n",
    "outfile=os.path.join(\"Analysis\",\"ElectionResults.txt\")\n",
    "\n",
    "with open(outfile,\"w\") as data:\n",
    "    data.writelines(\"       Election Results\\n\")\n",
    "    data.writelines(\"--------------------------------------\\n\")\n",
    "    data.writelines(f\"Total Votes : {len(voter_id_l)}\\n\")\n",
    "    data.writelines(\"--------------------------------------\\n\")\n",
    "    print(f\"Election Results\")\n",
    "    print(f\"-------------------------\")\n",
    "    print(F\"Total Votes : {(len(voter_id_l))}\")\n",
    "    print(f\"-------------------------\")\n",
    "    for i in range(len(key_l)):\n",
    "        a =key_l[i]\n",
    "        b= round((float(val_l[i]/len(voter_id_l)))*100,2)\n",
    "        c = val_l[i]\n",
    "\n",
    "        print(f\"{a} : {b}%   ({c})\")\n",
    "        \n",
    "        data.writelines(f\"{a} : {b}%   ({c})\\n\")\n",
    "    for i in range(len(key_l)):\n",
    "        if val_l[i] == max(val_l):\n",
    "            w = key_l[i]\n",
    "            print(f\"-------------------------\")            \n",
    "            print(f\"Winner : {key_l[i]}\")\n",
    "            data.writelines(\"-------------------------\\n\")\n",
    "            data.writelines(f\"Winner : {key_l[i]}\")\n",
    "            \n",
    "\n",
    "\n",
    "         \n",
    "        \n",
    "    \n",
    "\n",
    "            \n",
    "            \n",
    "        \n",
    "        "
   ]
  },
  {
   "cell_type": "code",
   "execution_count": null,
   "metadata": {},
   "outputs": [],
   "source": [
    "       \n",
    "\n",
    "\n",
    "\n",
    "        \n",
    "          \n",
    "                 \n",
    "                \n",
    "\n",
    "    \n",
    "   \n",
    "\n",
    "\n",
    "            \n",
    "    \n",
    "        \n",
    "\n",
    "        "
   ]
  },
  {
   "cell_type": "code",
   "execution_count": null,
   "metadata": {},
   "outputs": [],
   "source": [
    "\n"
   ]
  },
  {
   "cell_type": "code",
   "execution_count": null,
   "metadata": {},
   "outputs": [],
   "source": []
  },
  {
   "cell_type": "code",
   "execution_count": null,
   "metadata": {},
   "outputs": [],
   "source": [
    "\n",
    "    "
   ]
  },
  {
   "cell_type": "code",
   "execution_count": null,
   "metadata": {},
   "outputs": [],
   "source": []
  },
  {
   "cell_type": "code",
   "execution_count": null,
   "metadata": {},
   "outputs": [],
   "source": []
  }
 ],
 "metadata": {
  "kernelspec": {
   "display_name": "Python 3",
   "language": "python",
   "name": "python3"
  },
  "language_info": {
   "codemirror_mode": {
    "name": "ipython",
    "version": 3
   },
   "file_extension": ".py",
   "mimetype": "text/x-python",
   "name": "python",
   "nbconvert_exporter": "python",
   "pygments_lexer": "ipython3",
   "version": "3.7.6"
  }
 },
 "nbformat": 4,
 "nbformat_minor": 4
}
